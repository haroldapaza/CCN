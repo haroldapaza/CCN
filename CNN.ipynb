{
 "cells": [
  {
   "cell_type": "code",
   "execution_count": 8,
   "metadata": {},
   "outputs": [],
   "source": [
    "import tensorflow as tf"
   ]
  },
  {
   "cell_type": "code",
   "execution_count": 9,
   "metadata": {},
   "outputs": [
    {
     "name": "stdout",
     "output_type": "stream",
     "text": [
      "1.13.1\n"
     ]
    }
   ],
   "source": [
    "print(tf.__version__)"
   ]
  },
  {
   "cell_type": "code",
   "execution_count": 2,
   "metadata": {},
   "outputs": [],
   "source": [
    "class myCallback (tf.keras.callbacks.Callback):\n",
    "    def on_epoch_end(self, epoch, logs={}):\n",
    "        if(logs.get('acc')>0.98):\n",
    "            print(\"\\nReached 98% accuracy  so cancelling training!\")\n",
    "            self.model.stop_training = True"
   ]
  },
  {
   "cell_type": "code",
   "execution_count": 3,
   "metadata": {},
   "outputs": [],
   "source": [
    "callbacks = myCallback() "
   ]
  },
  {
   "cell_type": "code",
   "execution_count": 4,
   "metadata": {},
   "outputs": [],
   "source": [
    "mnist = tf.keras.datasets.fashion_mnist \n",
    "(training_images,training_labels), (test_images, test_labels)= mnist.load_data()\n",
    "training_images = training_images.reshape(60000, 28, 28,1)\n",
    "training_images=training_images / 255.0\n",
    "test_images = test_images.reshape(10000, 28, 28,1)\n",
    "test_images = test_images/255.0\n"
   ]
  },
  {
   "cell_type": "code",
   "execution_count": 5,
   "metadata": {
    "scrolled": false
   },
   "outputs": [
    {
     "name": "stdout",
     "output_type": "stream",
     "text": [
      "WARNING:tensorflow:From F:\\anaconda\\envs\\Neuronales\\lib\\site-packages\\tensorflow\\python\\ops\\resource_variable_ops.py:435: colocate_with (from tensorflow.python.framework.ops) is deprecated and will be removed in a future version.\n",
      "Instructions for updating:\n",
      "Colocations handled automatically by placer.\n"
     ]
    }
   ],
   "source": [
    "model = tf.keras.models.Sequential([\n",
    "    tf.keras.layers.Conv2D(16, (3,3), activation = 'relu', input_shape=(28, 28, 1)),\n",
    "    tf.keras.layers.MaxPooling2D(2,2),\n",
    "    tf.keras.layers.Conv2D(16, (3,3), activation = 'relu'),\n",
    "    tf.keras.layers.MaxPooling2D(2,2),\n",
    "    tf.keras.layers.Conv2D(16, (3,3), activation = 'relu'),\n",
    "    tf.keras.layers.MaxPooling2D(2,2),\n",
    "    tf.keras.layers.Flatten(),\n",
    "    tf.keras.layers.Dense(128, activation = 'relu'),\n",
    "    tf.keras.layers.Dense(10, activation = 'softmax')\n",
    "])"
   ]
  },
  {
   "cell_type": "code",
   "execution_count": 6,
   "metadata": {},
   "outputs": [
    {
     "name": "stdout",
     "output_type": "stream",
     "text": [
      "_________________________________________________________________\n",
      "Layer (type)                 Output Shape              Param #   \n",
      "=================================================================\n",
      "conv2d (Conv2D)              (None, 26, 26, 16)        160       \n",
      "_________________________________________________________________\n",
      "max_pooling2d (MaxPooling2D) (None, 13, 13, 16)        0         \n",
      "_________________________________________________________________\n",
      "conv2d_1 (Conv2D)            (None, 11, 11, 16)        2320      \n",
      "_________________________________________________________________\n",
      "max_pooling2d_1 (MaxPooling2 (None, 5, 5, 16)          0         \n",
      "_________________________________________________________________\n",
      "conv2d_2 (Conv2D)            (None, 3, 3, 16)          2320      \n",
      "_________________________________________________________________\n",
      "max_pooling2d_2 (MaxPooling2 (None, 1, 1, 16)          0         \n",
      "_________________________________________________________________\n",
      "flatten (Flatten)            (None, 16)                0         \n",
      "_________________________________________________________________\n",
      "dense (Dense)                (None, 128)               2176      \n",
      "_________________________________________________________________\n",
      "dense_1 (Dense)              (None, 10)                1290      \n",
      "=================================================================\n",
      "Total params: 8,266\n",
      "Trainable params: 8,266\n",
      "Non-trainable params: 0\n",
      "_________________________________________________________________\n",
      "Epoch 1/50\n",
      "60000/60000 [==============================] - 42s 704us/sample - loss: 0.7149 - acc: 0.7369\n",
      "Epoch 2/50\n",
      "60000/60000 [==============================] - 26s 430us/sample - loss: 0.5018 - acc: 0.8159\n",
      "Epoch 3/50\n",
      "60000/60000 [==============================] - 25s 424us/sample - loss: 0.4437 - acc: 0.8379\n",
      "Epoch 4/50\n",
      "60000/60000 [==============================] - 26s 428us/sample - loss: 0.4086 - acc: 0.8490\n",
      "Epoch 5/50\n",
      "60000/60000 [==============================] - 25s 410us/sample - loss: 0.3850 - acc: 0.8578\n",
      "Epoch 6/50\n",
      "60000/60000 [==============================] - 25s 416us/sample - loss: 0.3672 - acc: 0.8637\n",
      "Epoch 7/50\n",
      "60000/60000 [==============================] - 25s 423us/sample - loss: 0.3548 - acc: 0.8687\n",
      "Epoch 8/50\n",
      "60000/60000 [==============================] - 24s 406us/sample - loss: 0.3437 - acc: 0.8730\n",
      "Epoch 9/50\n",
      "60000/60000 [==============================] - 26s 430us/sample - loss: 0.3346 - acc: 0.8758\n",
      "Epoch 10/50\n",
      "60000/60000 [==============================] - 24s 402us/sample - loss: 0.3245 - acc: 0.8792\n",
      "Epoch 11/50\n",
      "60000/60000 [==============================] - 25s 412us/sample - loss: 0.3174 - acc: 0.8817\n",
      "Epoch 12/50\n",
      "60000/60000 [==============================] - 24s 404us/sample - loss: 0.3082 - acc: 0.8858\n",
      "Epoch 13/50\n",
      "60000/60000 [==============================] - 25s 417us/sample - loss: 0.3037 - acc: 0.8864\n",
      "Epoch 14/50\n",
      "60000/60000 [==============================] - 25s 412us/sample - loss: 0.2963 - acc: 0.8895\n",
      "Epoch 15/50\n",
      "60000/60000 [==============================] - 24s 404us/sample - loss: 0.2930 - acc: 0.8902\n",
      "Epoch 16/50\n",
      "60000/60000 [==============================] - 25s 414us/sample - loss: 0.2886 - acc: 0.8926\n",
      "Epoch 17/50\n",
      "60000/60000 [==============================] - 25s 409us/sample - loss: 0.2856 - acc: 0.8942\n",
      "Epoch 18/50\n",
      "60000/60000 [==============================] - 26s 429us/sample - loss: 0.2801 - acc: 0.8945\n",
      "Epoch 19/50\n",
      "60000/60000 [==============================] - 25s 411us/sample - loss: 0.2766 - acc: 0.8959\n",
      "Epoch 20/50\n",
      "60000/60000 [==============================] - 24s 406us/sample - loss: 0.2734 - acc: 0.8982\n",
      "Epoch 21/50\n",
      "60000/60000 [==============================] - 25s 417us/sample - loss: 0.2705 - acc: 0.8989\n",
      "Epoch 22/50\n",
      "60000/60000 [==============================] - 25s 419us/sample - loss: 0.2672 - acc: 0.9005\n",
      "Epoch 23/50\n",
      "60000/60000 [==============================] - 25s 413us/sample - loss: 0.2652 - acc: 0.9023\n",
      "Epoch 24/50\n",
      "60000/60000 [==============================] - 25s 410us/sample - loss: 0.2634 - acc: 0.9017\n",
      "Epoch 25/50\n",
      "60000/60000 [==============================] - 25s 415us/sample - loss: 0.2596 - acc: 0.9023\n",
      "Epoch 26/50\n",
      "60000/60000 [==============================] - 25s 416us/sample - loss: 0.2556 - acc: 0.9040\n",
      "Epoch 27/50\n",
      "60000/60000 [==============================] - 25s 410us/sample - loss: 0.2554 - acc: 0.9038\n",
      "Epoch 28/50\n",
      "60000/60000 [==============================] - 25s 412us/sample - loss: 0.2493 - acc: 0.9063 - lo\n",
      "Epoch 29/50\n",
      "60000/60000 [==============================] - 25s 413us/sample - loss: 0.2500 - acc: 0.9048\n",
      "Epoch 30/50\n",
      "60000/60000 [==============================] - 26s 434us/sample - loss: 0.2487 - acc: 0.9071\n",
      "Epoch 31/50\n",
      "60000/60000 [==============================] - 26s 428us/sample - loss: 0.2455 - acc: 0.9078\n",
      "Epoch 32/50\n",
      "60000/60000 [==============================] - 25s 416us/sample - loss: 0.2442 - acc: 0.9070\n",
      "Epoch 33/50\n",
      "60000/60000 [==============================] - 24s 407us/sample - loss: 0.2419 - acc: 0.9093\n",
      "Epoch 34/50\n",
      "60000/60000 [==============================] - 25s 410us/sample - loss: 0.2423 - acc: 0.9092\n",
      "Epoch 35/50\n",
      "60000/60000 [==============================] - 26s 426us/sample - loss: 0.2380 - acc: 0.9107\n",
      "Epoch 36/50\n",
      "60000/60000 [==============================] - 24s 404us/sample - loss: 0.2367 - acc: 0.9113\n",
      "Epoch 37/50\n",
      "60000/60000 [==============================] - 24s 407us/sample - loss: 0.2362 - acc: 0.9104\n",
      "Epoch 38/50\n",
      "60000/60000 [==============================] - 24s 406us/sample - loss: 0.2362 - acc: 0.9110\n",
      "Epoch 39/50\n",
      "60000/60000 [==============================] - 25s 411us/sample - loss: 0.2322 - acc: 0.9111\n",
      "Epoch 40/50\n",
      "60000/60000 [==============================] - 25s 409us/sample - loss: 0.2306 - acc: 0.9122\n",
      "Epoch 41/50\n",
      "60000/60000 [==============================] - 26s 426us/sample - loss: 0.2307 - acc: 0.9133\n",
      "Epoch 42/50\n",
      "60000/60000 [==============================] - 25s 419us/sample - loss: 0.2286 - acc: 0.9127\n",
      "Epoch 43/50\n",
      "60000/60000 [==============================] - 25s 420us/sample - loss: 0.2278 - acc: 0.9149\n",
      "Epoch 44/50\n",
      "60000/60000 [==============================] - 25s 419us/sample - loss: 0.2258 - acc: 0.9155\n",
      "Epoch 45/50\n",
      "60000/60000 [==============================] - 25s 419us/sample - loss: 0.2247 - acc: 0.9140\n",
      "Epoch 46/50\n",
      "60000/60000 [==============================] - 25s 418us/sample - loss: 0.2238 - acc: 0.9156\n",
      "Epoch 47/50\n",
      "60000/60000 [==============================] - 25s 418us/sample - loss: 0.2253 - acc: 0.9141\n",
      "Epoch 48/50\n",
      "60000/60000 [==============================] - 25s 421us/sample - loss: 0.2213 - acc: 0.9159\n",
      "Epoch 49/50\n",
      "60000/60000 [==============================] - 25s 417us/sample - loss: 0.2207 - acc: 0.9146\n",
      "Epoch 50/50\n",
      "60000/60000 [==============================] - 25s 423us/sample - loss: 0.2205 - acc: 0.9163\n",
      "10000/10000 [==============================] - 7s 702us/sample - loss: 0.3885 - acc: 0.8708\n"
     ]
    }
   ],
   "source": [
    "model.compile(optimizer ='adam', loss='sparse_categorical_crossentropy', metrics = ['accuracy'])\n",
    "model.summary()\n",
    "model.fit(training_images, training_labels, epochs=50 ,callbacks=[callbacks])\n",
    "test_loss = model.evaluate(test_images, test_labels)"
   ]
  },
  {
   "cell_type": "code",
   "execution_count": 7,
   "metadata": {},
   "outputs": [],
   "source": []
  },
  {
   "cell_type": "code",
   "execution_count": null,
   "metadata": {},
   "outputs": [],
   "source": []
  }
 ],
 "metadata": {
  "kernelspec": {
   "display_name": "Python 3",
   "language": "python",
   "name": "python3"
  },
  "language_info": {
   "codemirror_mode": {
    "name": "ipython",
    "version": 3
   },
   "file_extension": ".py",
   "mimetype": "text/x-python",
   "name": "python",
   "nbconvert_exporter": "python",
   "pygments_lexer": "ipython3",
   "version": "3.7.3"
  }
 },
 "nbformat": 4,
 "nbformat_minor": 2
}
